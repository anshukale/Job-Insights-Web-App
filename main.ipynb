{
 "cells": [
  {
   "cell_type": "code",
   "execution_count": 6,
   "metadata": {},
   "outputs": [
    {
     "name": "stderr",
     "output_type": "stream",
     "text": [
      "<>:4: SyntaxWarning: invalid escape sequence '\\I'\n",
      "<>:4: SyntaxWarning: invalid escape sequence '\\I'\n",
      "C:\\Users\\Win-10\\AppData\\Local\\Temp\\ipykernel_3396\\2591023290.py:4: SyntaxWarning: invalid escape sequence '\\I'\n",
      "  df = pd.read_csv(\"D:\\IIT Gandhinagar\\Off-Campus\\Projects\\Job Insights Web App\\job_descriptions.csv\")\n"
     ]
    },
    {
     "name": "stdout",
     "output_type": "stream",
     "text": [
      "<class 'pandas.core.frame.DataFrame'>\n",
      "RangeIndex: 1615940 entries, 0 to 1615939\n",
      "Data columns (total 23 columns):\n",
      " #   Column            Non-Null Count    Dtype  \n",
      "---  ------            --------------    -----  \n",
      " 0   Job Id            1615940 non-null  int64  \n",
      " 1   Experience        1615940 non-null  object \n",
      " 2   Qualifications    1615940 non-null  object \n",
      " 3   Salary Range      1615940 non-null  object \n",
      " 4   location          1615940 non-null  object \n",
      " 5   Country           1615940 non-null  object \n",
      " 6   latitude          1615940 non-null  float64\n",
      " 7   longitude         1615940 non-null  float64\n",
      " 8   Work Type         1615940 non-null  object \n",
      " 9   Company Size      1615940 non-null  int64  \n",
      " 10  Job Posting Date  1615940 non-null  object \n",
      " 11  Preference        1615940 non-null  object \n",
      " 12  Contact Person    1615940 non-null  object \n",
      " 13  Contact           1615940 non-null  object \n",
      " 14  Job Title         1615940 non-null  object \n",
      " 15  Role              1615940 non-null  object \n",
      " 16  Job Portal        1615940 non-null  object \n",
      " 17  Job Description   1615940 non-null  object \n",
      " 18  Benefits          1615940 non-null  object \n",
      " 19  skills            1615940 non-null  object \n",
      " 20  Responsibilities  1615940 non-null  object \n",
      " 21  Company           1615940 non-null  object \n",
      " 22  Company Profile   1610462 non-null  object \n",
      "dtypes: float64(2), int64(2), object(19)\n",
      "memory usage: 283.6+ MB\n",
      "None\n",
      "             Job Id     Experience Qualifications Salary Range    location  \\\n",
      "0  1089843540111562  5 to 15 Years         M.Tech    $59K-$99K     Douglas   \n",
      "1   398454096642776  2 to 12 Years            BCA   $56K-$116K    Ashgabat   \n",
      "2   481640072963533  0 to 12 Years            PhD   $61K-$104K       Macao   \n",
      "3   688192671473044  4 to 11 Years            PhD    $65K-$91K  Porto-Novo   \n",
      "4   117057806156508  1 to 12 Years            MBA    $64K-$87K    Santiago   \n",
      "\n",
      "            Country  latitude  longitude  Work Type  Company Size  ...  \\\n",
      "0       Isle of Man   54.2361    -4.5481     Intern         26801  ...   \n",
      "1      Turkmenistan   38.9697    59.5563     Intern        100340  ...   \n",
      "2  Macao SAR, China   22.1987   113.5439  Temporary         84525  ...   \n",
      "3             Benin    9.3077     2.3158  Full-Time        129896  ...   \n",
      "4             Chile  -35.6751   -71.5429     Intern         53944  ...   \n",
      "\n",
      "                 Contact                     Job Title  \\\n",
      "0   001-381-930-7517x737  Digital Marketing Specialist   \n",
      "1           461-509-4216                 Web Developer   \n",
      "2             9687619505            Operations Manager   \n",
      "3  +1-820-643-5431x47576              Network Engineer   \n",
      "4      343.975.4702x9340                 Event Manager   \n",
      "\n",
      "                        Role    Job Portal  \\\n",
      "0       Social Media Manager      Snagajob   \n",
      "1     Frontend Web Developer      Idealist   \n",
      "2    Quality Control Manager  Jobs2Careers   \n",
      "3  Wireless Network Engineer      FlexJobs   \n",
      "4         Conference Manager  Jobs2Careers   \n",
      "\n",
      "                                     Job Description  \\\n",
      "0  Social Media Managers oversee an organizations...   \n",
      "1  Frontend Web Developers design and implement u...   \n",
      "2  Quality Control Managers establish and enforce...   \n",
      "3  Wireless Network Engineers design, implement, ...   \n",
      "4  A Conference Manager coordinates and manages c...   \n",
      "\n",
      "                                            Benefits  \\\n",
      "0  {'Flexible Spending Accounts (FSAs), Relocatio...   \n",
      "1  {'Health Insurance, Retirement Plans, Paid Tim...   \n",
      "2  {'Legal Assistance, Bonuses and Incentive Prog...   \n",
      "3  {'Transportation Benefits, Professional Develo...   \n",
      "4  {'Flexible Spending Accounts (FSAs), Relocatio...   \n",
      "\n",
      "                                              skills  \\\n",
      "0  Social media platforms (e.g., Facebook, Twitte...   \n",
      "1  HTML, CSS, JavaScript Frontend frameworks (e.g...   \n",
      "2  Quality control processes and methodologies St...   \n",
      "3  Wireless network design and architecture Wi-Fi...   \n",
      "4  Event planning Conference logistics Budget man...   \n",
      "\n",
      "                                    Responsibilities  \\\n",
      "0  Manage and grow social media accounts, create ...   \n",
      "1  Design and code user interfaces for websites, ...   \n",
      "2  Establish and enforce quality control standard...   \n",
      "3  Design, configure, and optimize wireless netwo...   \n",
      "4  Specialize in conference and convention planni...   \n",
      "\n",
      "                            Company  \\\n",
      "0                 Icahn Enterprises   \n",
      "1      PNC Financial Services Group   \n",
      "2  United Services Automobile Assn.   \n",
      "3                              Hess   \n",
      "4                      Cairn Energy   \n",
      "\n",
      "                                     Company Profile  \n",
      "0  {\"Sector\":\"Diversified\",\"Industry\":\"Diversifie...  \n",
      "1  {\"Sector\":\"Financial Services\",\"Industry\":\"Com...  \n",
      "2  {\"Sector\":\"Insurance\",\"Industry\":\"Insurance: P...  \n",
      "3  {\"Sector\":\"Energy\",\"Industry\":\"Mining, Crude-O...  \n",
      "4  {\"Sector\":\"Energy\",\"Industry\":\"Energy - Oil & ...  \n",
      "\n",
      "[5 rows x 23 columns]\n"
     ]
    }
   ],
   "source": [
    "import pandas as pd\n",
    "\n",
    "# Load CSV file\n",
    "df = pd.read_csv(\"D:\\IIT Gandhinagar\\Off-Campus\\Projects\\Job Insights Web App\\job_descriptions.csv\")\n",
    "\n",
    "# Display basic info\n",
    "print(df.info())\n",
    "\n",
    "# Show first 5 rows\n",
    "print(df.head())"
   ]
  },
  {
   "cell_type": "code",
   "execution_count": 7,
   "metadata": {},
   "outputs": [
    {
     "name": "stdout",
     "output_type": "stream",
     "text": [
      "Job Id                 0\n",
      "Experience             0\n",
      "Qualifications         0\n",
      "Salary Range           0\n",
      "location               0\n",
      "Country                0\n",
      "latitude               0\n",
      "longitude              0\n",
      "Work Type              0\n",
      "Company Size           0\n",
      "Job Posting Date       0\n",
      "Preference             0\n",
      "Contact Person         0\n",
      "Contact                0\n",
      "Job Title              0\n",
      "Role                   0\n",
      "Job Portal             0\n",
      "Job Description        0\n",
      "Benefits               0\n",
      "skills                 0\n",
      "Responsibilities       0\n",
      "Company                0\n",
      "Company Profile     5478\n",
      "dtype: int64\n"
     ]
    }
   ],
   "source": [
    "print(df.isnull().sum())  # Shows the count of missing values per column"
   ]
  },
  {
   "cell_type": "code",
   "execution_count": 8,
   "metadata": {},
   "outputs": [
    {
     "name": "stdout",
     "output_type": "stream",
     "text": [
      "Index(['Job Id', 'Experience', 'Qualifications', 'Salary Range', 'location',\n",
      "       'Country', 'latitude', 'longitude', 'Work Type', 'Company Size',\n",
      "       'Job Posting Date', 'Preference', 'Contact Person', 'Contact',\n",
      "       'Job Title', 'Role', 'Job Portal', 'Job Description', 'Benefits',\n",
      "       'skills', 'Responsibilities', 'Company', 'Company Profile'],\n",
      "      dtype='object')\n"
     ]
    }
   ],
   "source": [
    "print(df.columns)"
   ]
  },
  {
   "cell_type": "code",
   "execution_count": 9,
   "metadata": {},
   "outputs": [
    {
     "name": "stdout",
     "output_type": "stream",
     "text": [
      "['Digital Marketing Specialist' 'Web Developer' 'Operations Manager'\n",
      " 'Network Engineer' 'Event Manager' 'Software Tester' 'Teacher'\n",
      " 'UX/UI Designer' 'Wedding Planner' 'QA Analyst' 'Litigation Attorney'\n",
      " 'Mechanical Engineer' 'Network Administrator' 'Account Manager'\n",
      " 'Brand Manager' 'Social Worker' 'Social Media Coordinator'\n",
      " 'Email Marketing Specialist' 'HR Generalist' 'Legal Assistant'\n",
      " 'Nurse Practitioner' 'Account Director' 'Software Engineer'\n",
      " 'Purchasing Agent' 'Sales Consultant' 'Civil Engineer'\n",
      " 'Network Security Specialist' 'UI Developer' 'Financial Planner'\n",
      " 'Event Planner' 'Psychologist' 'Electrical Designer' 'Data Analyst'\n",
      " 'Technical Writer' 'Tax Consultant' 'Account Executive'\n",
      " 'Systems Administrator' 'Database Administrator' 'Research Analyst'\n",
      " 'Data Entry Clerk' 'Registered Nurse' 'Investment Analyst'\n",
      " 'Speech Therapist' 'Sales Manager' 'Landscape Architect'\n",
      " 'Key Account Manager' 'UX Researcher' 'Investment Banker'\n",
      " 'IT Support Specialist' 'Art Director' 'Software Developer'\n",
      " 'Project Manager' 'Customer Service Manager' 'Procurement Manager'\n",
      " 'Substance Abuse Counselor' 'Supply Chain Analyst' 'Data Engineer'\n",
      " 'Accountant' 'Sales Representative' 'Environmental Consultant'\n",
      " 'Electrical Engineer' 'Systems Engineer' 'Art Teacher'\n",
      " 'Human Resources Manager' 'Inventory Analyst' 'Legal Counsel'\n",
      " 'Database Developer' 'Procurement Specialist' 'Systems Analyst'\n",
      " 'Copywriter' 'Content Writer' 'HR Coordinator'\n",
      " 'Business Development Manager' 'Java Developer' 'Supply Chain Manager'\n",
      " 'Event Coordinator' 'Family Nurse Practitioner' 'Front-End Engineer'\n",
      " 'Customer Success Manager' 'Procurement Coordinator' 'Urban Planner'\n",
      " 'Architectural Designer' 'Financial Analyst' 'Environmental Engineer'\n",
      " 'Back-End Developer' 'Structural Engineer' 'Market Research Analyst'\n",
      " 'Customer Service Representative' 'Customer Support Specialist'\n",
      " 'Business Analyst' 'Social Media Manager' 'Family Lawyer'\n",
      " 'Chemical Analyst' 'Network Technician' 'Interior Designer'\n",
      " 'Software Architect' 'Nurse Manager' 'Veterinarian' 'Process Engineer'\n",
      " 'IT Manager' 'Quality Assurance Analyst'\n",
      " 'Pharmaceutical Sales Representative' 'Office Manager' 'Architect'\n",
      " 'Physician Assistant' 'Marketing Director' 'Front-End Developer'\n",
      " 'Research Scientist' 'Executive Assistant' 'HR Manager'\n",
      " 'Marketing Manager' 'Public Relations Specialist' 'Financial Controller'\n",
      " 'Investment Advisor' 'Aerospace Engineer' 'Marketing Analyst' 'Paralegal'\n",
      " 'Landscape Designer' 'Web Designer' 'Occupational Therapist'\n",
      " 'Legal Advisor' 'Marketing Coordinator' 'Dental Hygienist'\n",
      " 'SEM Specialist' 'SEO Specialist' 'Pediatrician' 'QA Engineer'\n",
      " 'Data Scientist' 'Financial Advisor' 'Personal Assistant' 'SEO Analyst'\n",
      " 'Network Analyst' 'Mechanical Designer' 'Marketing Specialist'\n",
      " 'Graphic Designer' 'Finance Manager' 'Physical Therapist'\n",
      " 'Product Designer' 'Administrative Assistant' 'Brand Ambassador'\n",
      " 'Project Coordinator' 'Product Manager' 'IT Administrator'\n",
      " 'Sales Associate' 'Chemical Engineer' 'Legal Secretary' 'Market Analyst']\n"
     ]
    }
   ],
   "source": [
    "print(df['Job Title'].unique())  # Replace 'job_title' with actual column name"
   ]
  },
  {
   "cell_type": "code",
   "execution_count": null,
   "metadata": {},
   "outputs": [],
   "source": []
  }
 ],
 "metadata": {
  "kernelspec": {
   "display_name": "Python 3",
   "language": "python",
   "name": "python3"
  },
  "language_info": {
   "codemirror_mode": {
    "name": "ipython",
    "version": 3
   },
   "file_extension": ".py",
   "mimetype": "text/x-python",
   "name": "python",
   "nbconvert_exporter": "python",
   "pygments_lexer": "ipython3",
   "version": "3.12.6"
  }
 },
 "nbformat": 4,
 "nbformat_minor": 2
}
